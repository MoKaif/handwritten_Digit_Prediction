{
  "nbformat": 4,
  "nbformat_minor": 0,
  "metadata": {
    "colab": {
      "provenance": [],
      "include_colab_link": true
    },
    "kernelspec": {
      "name": "python3",
      "display_name": "Python 3"
    },
    "language_info": {
      "name": "python"
    }
  },
  "cells": [
    {
      "cell_type": "markdown",
      "metadata": {
        "id": "view-in-github",
        "colab_type": "text"
      },
      "source": [
        "<a href=\"https://colab.research.google.com/github/MoKaif/handwritten_Digit_Prediction/blob/main/Handwritten_Digit_Prediction.ipynb\" target=\"_parent\"><img src=\"https://colab.research.google.com/assets/colab-badge.svg\" alt=\"Open In Colab\"/></a>"
      ]
    },
    {
      "cell_type": "markdown",
      "source": [
        "# **Handwritten Digit Prediction**"
      ],
      "metadata": {
        "id": "dqZ-nhxiganh"
      }
    },
    {
      "cell_type": "markdown",
      "source": [
        "-------------"
      ],
      "metadata": {
        "id": "gScHkw6jjrLo"
      }
    },
    {
      "cell_type": "markdown",
      "source": [
        "## **Objective**"
      ],
      "metadata": {
        "id": "Xns_rCdhh-vZ"
      }
    },
    {
      "cell_type": "markdown",
      "source": [
        "Build a machine learning model to classify handwritten digits from the popular MNIST dataset using a neural network. The goal is to preprocess the data, design and train a neural network model, and assess its performance through accuracy, a confusion matrix, and a detailed classification report."
      ],
      "metadata": {
        "id": "9sPvnFM1iI9l"
      }
    },
    {
      "cell_type": "markdown",
      "source": [
        "## **Data Source**"
      ],
      "metadata": {
        "id": "-Vbnt9CciKJP"
      }
    },
    {
      "cell_type": "markdown",
      "source": [
        "We will be using the load_digits from sklearn for our model"
      ],
      "metadata": {
        "id": "sGcv5WqQiNyl"
      }
    },
    {
      "cell_type": "markdown",
      "source": [
        "## **Import Library**"
      ],
      "metadata": {
        "id": "r7GrZzX0iTlV"
      }
    },
    {
      "cell_type": "code",
      "source": [
        "import numpy as np\n",
        "import pandas as pd\n",
        "from sklearn.model_selection import train_test_split\n",
        "from sklearn.preprocessing import StandardScaler\n",
        "from sklearn.metrics import accuracy_score\n",
        "from sklearn.metrics import confusion_matrix, classification_report\n",
        "import tensorflow as tf\n",
        "import matplotlib.pyplot as plt\n",
        "import seaborn as sns\n",
        "from tensorflow.keras import layers, models"
      ],
      "metadata": {
        "id": "UkK6NH9DiW-X"
      },
      "execution_count": 31,
      "outputs": []
    },
    {
      "cell_type": "markdown",
      "source": [
        "We import necessary libraries: NumPy for numerical operations, Matplotlib for plotting, Seaborn for data visualization, Scikit-learn for dataset loading, preprocessing, and metrics, and TensorFlow and Keras for building and training the neural network model."
      ],
      "metadata": {
        "id": "Hh4NY9XB0rkP"
      }
    },
    {
      "cell_type": "markdown",
      "source": [
        "## **Import Data**"
      ],
      "metadata": {
        "id": "9lHPQj1XiOUc"
      }
    },
    {
      "cell_type": "code",
      "source": [
        "from sklearn.datasets import load_digits"
      ],
      "metadata": {
        "id": "zcU1fdnGho6M"
      },
      "execution_count": 32,
      "outputs": []
    },
    {
      "cell_type": "code",
      "source": [
        "# Load the digits dataset\n",
        "digits = load_digits()\n",
        "\n",
        "# Create a DataFrame for data exploration (optional)\n",
        "df = pd.DataFrame(digits.data, columns=[f\"pixel_{i}\" for i in range(digits.data.shape[1])])\n",
        "df['target'] = digits.target"
      ],
      "metadata": {
        "id": "1AWcRc9Bw2Nl"
      },
      "execution_count": 33,
      "outputs": []
    },
    {
      "cell_type": "markdown",
      "source": [
        "We load the handwritten digits dataset using load_digits() from Scikit-learn."
      ],
      "metadata": {
        "id": "jj2sKqgo0vUX"
      }
    },
    {
      "cell_type": "markdown",
      "source": [
        "## **Describe Data**"
      ],
      "metadata": {
        "id": "7PUnimBoiX-x"
      }
    },
    {
      "cell_type": "code",
      "source": [
        "# Display basic dataset information\n",
        "print(\"Number of samples:\", digits.data.shape[0])\n",
        "print(\"Number of features per sample:\", digits.data.shape[1])\n",
        "print(\"Number of unique classes:\", len(np.unique(digits.target)))"
      ],
      "metadata": {
        "id": "kG15arusiZ8Z",
        "colab": {
          "base_uri": "https://localhost:8080/"
        },
        "outputId": "76c661db-b520-4407-f0ee-be083d6db340"
      },
      "execution_count": 34,
      "outputs": [
        {
          "output_type": "stream",
          "name": "stdout",
          "text": [
            "Number of samples: 1797\n",
            "Number of features per sample: 64\n",
            "Number of unique classes: 10\n"
          ]
        }
      ]
    },
    {
      "cell_type": "markdown",
      "source": [
        "## **Data Visualization**"
      ],
      "metadata": {
        "id": "oBGX4Ekniriz"
      }
    },
    {
      "cell_type": "code",
      "source": [
        "plt.figure(figsize=(8, 6))\n",
        "sns.countplot(x=digits.target)\n",
        "plt.title(\"Class Distribution\")\n",
        "plt.xlabel(\"Class\")\n",
        "plt.ylabel(\"Count\")\n",
        "plt.show()"
      ],
      "metadata": {
        "id": "lW-OIRK0iuzO",
        "colab": {
          "base_uri": "https://localhost:8080/",
          "height": 564
        },
        "outputId": "c97092d0-bb2b-4b0e-8629-154cfffd3c1d"
      },
      "execution_count": 35,
      "outputs": [
        {
          "output_type": "display_data",
          "data": {
            "text/plain": [
              "<Figure size 800x600 with 1 Axes>"
            ],
            "image/png": "[encoded data removed]"
          },
          "metadata": {}
        }
      ]
    },
    {
      "cell_type": "code",
      "source": [
        "# Display a few example images\n",
        "plt.figure(figsize=(10, 6))\n",
        "for i in range(10):\n",
        "    plt.subplot(2, 5, i + 1)\n",
        "    plt.imshow(digits.images[i], cmap='gray')\n",
        "    plt.title(f\"Label: {digits.target[i]}\")\n",
        "    plt.axis('off')\n",
        "plt.tight_layout()\n",
        "plt.show()"
      ],
      "metadata": {
        "colab": {
          "base_uri": "https://localhost:8080/",
          "height": 506
        },
        "id": "Ex5xUk43xSrY",
        "outputId": "838c3dcf-f77b-4715-ddff-372086f8be93"
      },
      "execution_count": 36,
      "outputs": [
        {
          "output_type": "display_data",
          "data": {
            "text/plain": [
              "<Figure size 1000x600 with 10 Axes>"
            ],
            "image/png": "[encoded data removed]"
          },
          "metadata": {}
        }
      ]
    },
    {
      "cell_type": "markdown",
      "source": [
        "## **Data Preprocessing**"
      ],
      "metadata": {
        "id": "UqfyPOCYiiww"
      }
    },
    {
      "cell_type": "markdown",
      "source": [],
      "metadata": {
        "id": "nDFmhy26xR7X"
      }
    },
    {
      "cell_type": "code",
      "source": [
        "digits.images.shape"
      ],
      "metadata": {
        "id": "3cyr3fbGin0A",
        "colab": {
          "base_uri": "https://localhost:8080/"
        },
        "outputId": "7186f7c3-8f7d-4edd-9a33-4fb0610def6f"
      },
      "execution_count": 37,
      "outputs": [
        {
          "output_type": "execute_result",
          "data": {
            "text/plain": [
              "(1797, 8, 8)"
            ]
          },
          "metadata": {},
          "execution_count": 37
        }
      ]
    },
    {
      "cell_type": "code",
      "source": [
        "X = digits.data.reshape(digits.data.shape[0], -1)\n",
        "y = digits.target\n",
        "\n",
        "# Data Scaling: Standardize features (mean=0, variance=1)\n",
        "scaler = StandardScaler()\n",
        "X_scaled = scaler.fit_transform(X)"
      ],
      "metadata": {
        "id": "QBCakTuli57t"
      },
      "execution_count": 38,
      "outputs": []
    },
    {
      "cell_type": "markdown",
      "source": [
        "\n",
        "\n",
        "*   We reshape the image data (X) to flatten the 2D images into 1D arrays, which is required for training. We also assign the target labels to y.\n",
        "*   We create a StandardScaler object and use it to standardize the feature data (X_scaled). This step ensures that all features have a mean of 0 and a standard deviation of 1, which can help the neural network converge more effectively.\n",
        "\n"
      ],
      "metadata": {
        "id": "Z0GZuIfm04iQ"
      }
    },
    {
      "cell_type": "markdown",
      "source": [
        "## **Train Test Split**"
      ],
      "metadata": {
        "id": "90_0q_Pbi658"
      }
    },
    {
      "cell_type": "markdown",
      "source": [
        "We split the standardized data into training and testing sets using the train_test_split function. This step ensures that we have separate datasets for training and evaluating the model's performance."
      ],
      "metadata": {
        "id": "Qg6dn73n1CAo"
      }
    },
    {
      "cell_type": "code",
      "source": [
        "# Split data into training and testing sets\n",
        "X_train, X_test, y_train, y_test = train_test_split(X_scaled, y, test_size=0.2, random_state=42)"
      ],
      "metadata": {
        "id": "u60YYaOFi-Dw"
      },
      "execution_count": 39,
      "outputs": []
    },
    {
      "cell_type": "markdown",
      "source": [
        "## **Modeling**"
      ],
      "metadata": {
        "id": "cIhyseNria7W"
      }
    },
    {
      "cell_type": "markdown",
      "source": [
        "We define a neural network model using Keras' Sequential API. The model consists of three layers: two hidden layers with ReLU activation functions and a final output layer with a softmax activation function.\n",
        "\n",
        "We compile the model by specifying the optimizer, loss function, and evaluation metrics. In this case, we use the Adam optimizer, sparse categorical cross-entropy loss (suitable for multiclass classification), and accuracy as the evaluation metric."
      ],
      "metadata": {
        "id": "aaLT25XC1IBh"
      }
    },
    {
      "cell_type": "code",
      "source": [
        "# Build a neural network model\n",
        "model = models.Sequential([\n",
        "    layers.Dense(64, activation='relu', input_shape=(X_train.shape[1],)),\n",
        "    layers.Dense(64, activation='relu'),\n",
        "    layers.Dense(10, activation='softmax')\n",
        "])\n",
        "\n",
        "# Compile the model\n",
        "model.compile(optimizer='adam',\n",
        "              loss='sparse_categorical_crossentropy',\n",
        "              metrics=['accuracy'])\n",
        "\n",
        "# Train the model with scaled data\n",
        "model.fit(X_train, y_train, epochs=20, batch_size=32, validation_split=0.1)\n"
      ],
      "metadata": {
        "id": "Toq58wpkjCw7",
        "colab": {
          "base_uri": "https://localhost:8080/"
        },
        "outputId": "e912e5f1-461a-4240-b92f-8659d9d00e5e"
      },
      "execution_count": 40,
      "outputs": [
        {
          "output_type": "stream",
          "name": "stdout",
          "text": [
            "Epoch 1/20\n",
            "41/41 [==============================] - 1s 7ms/step - loss: 1.8119 - accuracy: 0.4981 - val_loss: 1.1801 - val_accuracy: 0.8472\n",
            "Epoch 2/20\n",
            "41/41 [==============================] - 0s 3ms/step - loss: 0.8403 - accuracy: 0.8237 - val_loss: 0.5291 - val_accuracy: 0.9236\n",
            "Epoch 3/20\n",
            "41/41 [==============================] - 0s 3ms/step - loss: 0.3998 - accuracy: 0.9172 - val_loss: 0.3238 - val_accuracy: 0.9375\n",
            "Epoch 4/20\n",
            "41/41 [==============================] - 0s 3ms/step - loss: 0.2358 - accuracy: 0.9466 - val_loss: 0.2301 - val_accuracy: 0.9514\n",
            "Epoch 5/20\n",
            "41/41 [==============================] - 0s 3ms/step - loss: 0.1566 - accuracy: 0.9683 - val_loss: 0.2013 - val_accuracy: 0.9583\n",
            "Epoch 6/20\n",
            "41/41 [==============================] - 0s 3ms/step - loss: 0.1132 - accuracy: 0.9768 - val_loss: 0.1801 - val_accuracy: 0.9653\n",
            "Epoch 7/20\n",
            "41/41 [==============================] - 0s 3ms/step - loss: 0.0848 - accuracy: 0.9845 - val_loss: 0.1741 - val_accuracy: 0.9583\n",
            "Epoch 8/20\n",
            "41/41 [==============================] - 0s 4ms/step - loss: 0.0654 - accuracy: 0.9899 - val_loss: 0.1703 - val_accuracy: 0.9583\n",
            "Epoch 9/20\n",
            "41/41 [==============================] - 0s 3ms/step - loss: 0.0519 - accuracy: 0.9923 - val_loss: 0.1672 - val_accuracy: 0.9583\n",
            "Epoch 10/20\n",
            "41/41 [==============================] - 0s 3ms/step - loss: 0.0404 - accuracy: 0.9961 - val_loss: 0.1683 - val_accuracy: 0.9583\n",
            "Epoch 11/20\n",
            "41/41 [==============================] - 0s 3ms/step - loss: 0.0334 - accuracy: 0.9985 - val_loss: 0.1658 - val_accuracy: 0.9583\n",
            "Epoch 12/20\n",
            "41/41 [==============================] - 0s 4ms/step - loss: 0.0275 - accuracy: 0.9992 - val_loss: 0.1675 - val_accuracy: 0.9583\n",
            "Epoch 13/20\n",
            "41/41 [==============================] - 0s 3ms/step - loss: 0.0227 - accuracy: 0.9985 - val_loss: 0.1657 - val_accuracy: 0.9514\n",
            "Epoch 14/20\n",
            "41/41 [==============================] - 0s 3ms/step - loss: 0.0187 - accuracy: 0.9992 - val_loss: 0.1650 - val_accuracy: 0.9514\n",
            "Epoch 15/20\n",
            "41/41 [==============================] - 0s 3ms/step - loss: 0.0156 - accuracy: 0.9992 - val_loss: 0.1656 - val_accuracy: 0.9514\n",
            "Epoch 16/20\n",
            "41/41 [==============================] - 0s 3ms/step - loss: 0.0131 - accuracy: 1.0000 - val_loss: 0.1674 - val_accuracy: 0.9583\n",
            "Epoch 17/20\n",
            "41/41 [==============================] - 0s 3ms/step - loss: 0.0113 - accuracy: 1.0000 - val_loss: 0.1692 - val_accuracy: 0.9583\n",
            "Epoch 18/20\n",
            "41/41 [==============================] - 0s 4ms/step - loss: 0.0099 - accuracy: 1.0000 - val_loss: 0.1697 - val_accuracy: 0.9514\n",
            "Epoch 19/20\n",
            "41/41 [==============================] - 0s 3ms/step - loss: 0.0087 - accuracy: 1.0000 - val_loss: 0.1700 - val_accuracy: 0.9583\n",
            "Epoch 20/20\n",
            "41/41 [==============================] - 0s 3ms/step - loss: 0.0076 - accuracy: 1.0000 - val_loss: 0.1713 - val_accuracy: 0.9583\n"
          ]
        },
        {
          "output_type": "execute_result",
          "data": {
            "text/plain": [
              "<keras.callbacks.History at 0x797a96293a90>"
            ]
          },
          "metadata": {},
          "execution_count": 40
        }
      ]
    },
    {
      "cell_type": "markdown",
      "source": [
        "We train the model using the training data (X_train and y_train). We train for 20 epochs with a batch size of 32 and also specify a validation split of 10% for monitoring the model's performance during training"
      ],
      "metadata": {
        "id": "pk1NyeAg1Lpx"
      }
    },
    {
      "cell_type": "markdown",
      "source": [
        "## **Model Evaluation**"
      ],
      "metadata": {
        "id": "vhAwWfG0jFun"
      }
    },
    {
      "cell_type": "code",
      "source": [
        "# Evaluate the model on the scaled test data\n",
        "test_loss, test_acc = model.evaluate(X_test, y_test, verbose=2)\n",
        "print('\\nTest accuracy:', test_acc)"
      ],
      "metadata": {
        "id": "lND3jJj_jhx4",
        "colab": {
          "base_uri": "https://localhost:8080/"
        },
        "outputId": "c493538d-b687-4e25-c8f2-d363004ab7fb"
      },
      "execution_count": 41,
      "outputs": [
        {
          "output_type": "stream",
          "name": "stdout",
          "text": [
            "12/12 - 0s - loss: 0.0920 - accuracy: 0.9694 - 41ms/epoch - 3ms/step\n",
            "\n",
            "Test accuracy: 0.9694444537162781\n"
          ]
        }
      ]
    },
    {
      "cell_type": "markdown",
      "source": [
        "## **Prediction**"
      ],
      "metadata": {
        "id": "8AzwG7oLjiQI"
      }
    },
    {
      "cell_type": "code",
      "source": [
        "# Generate predictions\n",
        "y_pred = model.predict(X_test)\n",
        "y_pred_classes = np.argmax(y_pred, axis=1)\n",
        "\n",
        "# Generate confusion matrix\n",
        "conf_matrix = confusion_matrix(y_test, y_pred_classes)\n",
        "\n",
        "# Display confusion matrix\n",
        "plt.figure(figsize=(8, 6))\n",
        "sns.heatmap(conf_matrix, annot=True, fmt='d', cmap='Blues', cbar=False)\n",
        "plt.title('Confusion Matrix')\n",
        "plt.xlabel('Predicted')\n",
        "plt.ylabel('Actual')\n",
        "plt.show()\n",
        "\n",
        "# Generate classification report\n",
        "class_report = classification_report(y_test, y_pred_classes, target_names=[str(i) for i in range(10)])\n",
        "print(\"Classification Report:\\n\", class_report)"
      ],
      "metadata": {
        "colab": {
          "base_uri": "https://localhost:8080/",
          "height": 918
        },
        "id": "JiD_9b0P0UAE",
        "outputId": "b629b53a-dad0-4eb3-db44-d45c9efadfb5"
      },
      "execution_count": 43,
      "outputs": [
        {
          "output_type": "stream",
          "name": "stdout",
          "text": [
            "12/12 [==============================] - 0s 2ms/step\n"
          ]
        },
        {
          "output_type": "display_data",
          "data": {
            "text/plain": [
              "<Figure size 800x600 with 1 Axes>"
            ],
            "image/png": "[encoded data removed]"
          },
          "metadata": {}
        },
        {
          "output_type": "stream",
          "name": "stdout",
          "text": [
            "Classification Report:\n",
            "               precision    recall  f1-score   support\n",
            "\n",
            "           0       1.00      0.97      0.98        33\n",
            "           1       0.97      1.00      0.98        28\n",
            "           2       0.97      1.00      0.99        33\n",
            "           3       0.97      0.97      0.97        34\n",
            "           4       1.00      1.00      1.00        46\n",
            "           5       0.94      0.94      0.94        47\n",
            "           6       0.97      0.97      0.97        35\n",
            "           7       1.00      0.97      0.99        34\n",
            "           8       0.97      0.93      0.95        30\n",
            "           9       0.93      0.95      0.94        40\n",
            "\n",
            "    accuracy                           0.97       360\n",
            "   macro avg       0.97      0.97      0.97       360\n",
            "weighted avg       0.97      0.97      0.97       360\n",
            "\n"
          ]
        }
      ]
    },
    {
      "cell_type": "markdown",
      "source": [
        "## **Explaination**"
      ],
      "metadata": {
        "id": "SBo38CJZjlEX"
      }
    },
    {
      "cell_type": "markdown",
      "source": [
        "#### Handwritten Digit Classification Workflow\n",
        "\n",
        "This code performs the following steps for handwritten digit classification:\n",
        "\n",
        "1. **Data Loading and Preprocessing:**\n",
        "   - Load and preprocess the dataset of handwritten digits.\n",
        "   - Flatten image pixels to create feature vectors.\n",
        "   - Apply feature scaling using standardization.\n",
        "\n",
        "2. **Neural Network Model Building and Training:**\n",
        "   - Construct a neural network model using Keras' `Sequential` API.\n",
        "   - Define layers with appropriate activation functions.\n",
        "   - Compile the model with optimizer, loss function, and metrics.\n",
        "   - Train the model on scaled training data with epochs and batch size.\n",
        "   - Monitor model performance using a validation split.\n",
        "\n",
        "3. **Model Evaluation:**\n",
        "   - Evaluate the trained model's accuracy on scaled test data.\n",
        "   - Test accuracy provides an overall performance measure.\n",
        "\n",
        "4. **Confusion Matrix Visualization:**\n",
        "   - Generate predictions using the trained model for test data.\n",
        "   - Compute a confusion matrix to visualize predictions vs. actual labels.\n",
        "   - Use a heatmap for an informative confusion matrix display.\n",
        "\n",
        "5. **Classification Report Generation:**\n",
        "   - Generate a detailed classification report with precision, recall, F1-score, and support metrics for each class.\n",
        "   - Classification report offers a comprehensive class-wise performance analysis.\n",
        "\n",
        "These steps collectively provide insights into the model's performance, strengths, and areas for improvement in handwritten digit classification.\n"
      ],
      "metadata": {
        "id": "Ybi8FR9Kjv00"
      }
    }
  ]
}